{
 "cells": [
  {
   "cell_type": "code",
   "execution_count": null,
   "metadata": {
    "slideshow": {
     "slide_type": "slide"
    }
   },
   "outputs": [],
   "source": [
    "using Stan, StanSample, DataFrames, CSV, Plots"
   ]
  },
  {
   "cell_type": "code",
   "execution_count": null,
   "metadata": {},
   "outputs": [],
   "source": [
    "rawdata = CSV.read(\"../data/NLA2012_data.csv\", DataFrame)\n",
    "nothing"
   ]
  },
  {
   "cell_type": "code",
   "execution_count": null,
   "metadata": {
    "slideshow": {
     "slide_type": "slide"
    }
   },
   "outputs": [],
   "source": [
    "data = Dict(\"n\" => size(rawdata,1),\n",
    "            \"ne\" => 8,\n",
    "            \"TN_logobs\" => log.(rawdata.TN),\n",
    "            \"TP_logobs\" => log.(rawdata.TP),\n",
    "            \"NANI\" => rawdata.NANI,\n",
    "            \"NAPI\" => rawdata.NAPI,\n",
    "            \"LF\" => rawdata.forest_pct,\n",
    "            \"LW\" => rawdata.wetland_pct,\n",
    "            \"Chla\" => rawdata.Chla,\n",
    "            \"disc\" => rawdata.discharge , # m^3/day\n",
    "            \"Vol\" => rawdata.Vol,         # m^3\n",
    "            \"ecoN\" => Int.(rawdata.eco_region .- 4),\n",
    "            \"trN\" => Int.(rawdata.TSI),\n",
    "            \"WSArea\" => rawdata.watershed_area\n",
    "            )"
   ]
  },
  {
   "cell_type": "code",
   "execution_count": null,
   "metadata": {
    "slideshow": {
     "slide_type": "slide"
    }
   },
   "outputs": [],
   "source": [
    "modelcode = open(f->read(f, String), \"NLAmodel.stan\");"
   ]
  },
  {
   "cell_type": "code",
   "execution_count": null,
   "metadata": {
    "slideshow": {
     "slide_type": "-"
    }
   },
   "outputs": [],
   "source": [
    "sm = SampleModel(\"NLA\", modelcode);"
   ]
  },
  {
   "cell_type": "code",
   "execution_count": null,
   "metadata": {
    "slideshow": {
     "slide_type": "-"
    },
    "tags": []
   },
   "outputs": [],
   "source": [
    "rc = stan_sample(sm, data=data);"
   ]
  },
  {
   "cell_type": "code",
   "execution_count": null,
   "metadata": {
    "slideshow": {
     "slide_type": "-"
    }
   },
   "outputs": [],
   "source": [
    "if success(rc)\n",
    "    samples = read_samples(sm, :dataframe);\n",
    "    sdf = read_summary(sm, :dataframe);\n",
    "end\n",
    "sdf[8:end,:]"
   ]
  },
  {
   "cell_type": "code",
   "execution_count": null,
   "metadata": {
    "slideshow": {
     "slide_type": "skip"
    }
   },
   "outputs": [],
   "source": [
    "TN = [sdf[170:169+data[\"n\"],2] sdf[170:169+data[\"n\"],5] sdf[170:169+data[\"n\"],7]]\n",
    "TP = [sdf[170+data[\"n\"]:169+data[\"n\"]*2,2] sdf[170+data[\"n\"]:169+data[\"n\"]*2,5] sdf[170+data[\"n\"]:169+data[\"n\"]*2,7]]\n",
    "Nload = [sdf[170+data[\"n\"]*2:169+data[\"n\"]*3,2] sdf[170+data[\"n\"]*2:169+data[\"n\"]*3,5] sdf[170+data[\"n\"]*2:169+data[\"n\"]*3,7]]\n",
    "Pload = [sdf[170+data[\"n\"]*3:169+data[\"n\"]*4,2] sdf[170+data[\"n\"]*3:169+data[\"n\"]*4,5] sdf[170+data[\"n\"]*3:169+data[\"n\"]*4,7]]\n",
    "nothing"
   ]
  },
  {
   "cell_type": "code",
   "execution_count": null,
   "metadata": {},
   "outputs": [],
   "source": [
    "aN = sdf[40:47,2]\n",
    "aP = sdf[48:55,2]\n",
    "bN = sdf[56:63,2]\n",
    "bP = sdf[64:71,2]\n",
    "mN = sdf[72:79,2]\n",
    "mP = sdf[80:87,2]\n",
    "SN = sdf[88:95,2]\n",
    "SP = sdf[96:103,2]\n",
    "nothing"
   ]
  },
  {
   "cell_type": "code",
   "execution_count": null,
   "metadata": {},
   "outputs": [],
   "source": [
    "EN_N = zeros(data[\"n\"],1)\n",
    "EN_P = zeros(data[\"n\"],1)\n",
    "DE_N = zeros(data[\"n\"],1)\n",
    "DE_P = zeros(data[\"n\"],1)\n",
    "for i in 1:data[\"n\"]\n",
    "    EN_N[i] = aN[data[\"ecoN\"][i]]*data[\"Chla\"][i]^bN[data[\"ecoN\"][i]]/(data[\"Chla\"][i]^bN[data[\"ecoN\"][i]]+mN[data[\"ecoN\"][i]]^bN[data[\"ecoN\"][i]])/data[\"Vol\"][i]\n",
    "    EN_P[i] = aP[data[\"ecoN\"][i]]*data[\"Chla\"][i]^bP[data[\"ecoN\"][i]]/(data[\"Chla\"][i]^bP[data[\"ecoN\"][i]]+mP[data[\"ecoN\"][i]]^bP[data[\"ecoN\"][i]])/data[\"Vol\"][i]\n",
    "    DE_N[i] = SN[data[\"ecoN\"][i]]*TN[i,1]\n",
    "    DE_P[i] = SP[data[\"ecoN\"][i]]*TP[i,1]\n",
    "end"
   ]
  },
  {
   "cell_type": "code",
   "execution_count": null,
   "metadata": {},
   "outputs": [],
   "source": [
    "model_output = DataFrame(TNmean = TN[:,1], TN5 = TN[:,2], TN95 = TN[:,3],\n",
    "                         TPmean = TP[:,1], TP5 = TP[:,2], TP95 = TP[:,3],\n",
    "                         N_Load=Nload[:,1] ./ data[\"Vol\"], \n",
    "                         N_EN = EN_N[:,1], \n",
    "                         N_DE = DE_N[:,1],\n",
    "                         N_Outflow = data[\"disc\"] ./ data[\"Vol\"] .* TN[:,1],\n",
    "                         P_Load=Pload[:,1] ./ data[\"Vol\"], \n",
    "                         P_EN = EN_P[:,1], \n",
    "                         P_DE = DE_P[:,1], \n",
    "                         P_Outflow = data[\"disc\"] ./ data[\"Vol\"] .* TP[:,1]\n",
    ")\n",
    "nothing"
   ]
  },
  {
   "cell_type": "code",
   "execution_count": null,
   "metadata": {},
   "outputs": [],
   "source": [
    "CSV.write(\"NLAmodel_output.csv\", model_output)"
   ]
  },
  {
   "cell_type": "code",
   "execution_count": null,
   "metadata": {},
   "outputs": [],
   "source": []
  }
 ],
 "metadata": {
  "celltoolbar": "Slideshow",
  "kernelspec": {
   "display_name": "Julia(4threads)",
   "language": "julia",
   "name": "julia"
  },
  "language_info": {
   "file_extension": ".jl",
   "mimetype": "application/julia",
   "name": "julia",
   "version": "1.7.1"
  }
 },
 "nbformat": 4,
 "nbformat_minor": 4
}
